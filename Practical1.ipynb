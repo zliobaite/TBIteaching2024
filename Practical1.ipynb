{
  "nbformat": 4,
  "nbformat_minor": 0,
  "metadata": {
    "colab": {
      "provenance": [],
      "authorship_tag": "ABX9TyP3arxu3nmqmxY2ju8mPmsu",
      "include_colab_link": true
    },
    "kernelspec": {
      "name": "python3",
      "display_name": "Python 3"
    },
    "language_info": {
      "name": "python"
    }
  },
  "cells": [
    {
      "cell_type": "markdown",
      "metadata": {
        "id": "view-in-github",
        "colab_type": "text"
      },
      "source": [
        "<a href=\"https://colab.research.google.com/github/zliobaite/TBIteaching2024/blob/main/Practical1.ipynb\" target=\"_parent\"><img src=\"https://colab.research.google.com/assets/colab-badge.svg\" alt=\"Open In Colab\"/></a>"
      ]
    },
    {
      "cell_type": "markdown",
      "source": [
        "**Practical 1: NOW database**\n",
        "\n",
        "In this exercise you will explore the NOW database of fossil mammals.\n",
        "\n",
        "Task: compare the number of mammalian fossil localities in Kenya, Tanzania and Ethiopia over the time period from 34 million years ago to today. Does the number of localities increase/decrease/stay similar over time? How does the number of localities compare accross countries through time?\n"
      ],
      "metadata": {
        "id": "RJBvQw23QJ26"
      }
    },
    {
      "cell_type": "markdown",
      "source": [
        "**Step 1:** explore the database\n",
        "\n",
        "Go to the NOW database https://nowdatabase.luomus.fi/ . Go to \"Locality\" tab. Enter \"Kenya\" in the \"Country or Continent\" search box. How many localities are found? Try to open one or a few, see what is in there."
      ],
      "metadata": {
        "id": "pFZRyzsXRiNF"
      }
    },
    {
      "cell_type": "markdown",
      "source": [
        "**Step 2:** download a csv with a list of localities from Kenya, Tanzania and Ethiopia\n",
        "\n",
        "Enter \"Kenya,Tanzania,Ethiopia\" in the \"Country or Continent\" search box. How many localities are found?\n",
        "\n",
        "Click \"Export\". In the pop up box tick \"Export to file\" and click \"Selected localities/species\". Rename the file with a shorter name for convenience, for example \"now_KeTaEt.csv\". Open the csv, explore it."
      ],
      "metadata": {
        "id": "gU93YVchTdpJ"
      }
    },
    {
      "cell_type": "markdown",
      "source": [
        "**Step 3:** read the data from the csv"
      ],
      "metadata": {
        "id": "0lULNvFEWT4u"
      }
    },
    {
      "cell_type": "code",
      "source": [
        "# deleting possible previous uploads\n",
        "import os\n",
        "os.remove(\"now_KeTaEt.csv\")\n",
        "\n",
        "from google.colab import files\n",
        "uploaded = files.upload()"
      ],
      "metadata": {
        "collapsed": true,
        "id": "T6WSIfnPWivl"
      },
      "execution_count": null,
      "outputs": []
    },
    {
      "cell_type": "code",
      "source": [
        "import pandas as pd\n",
        "import io\n",
        "\n",
        "df = pd.read_csv(io.StringIO(uploaded['now_KeTaEt.csv'].decode('utf-8')),delimiter='\\t')\n",
        "df.head()\n",
        "#df.columns\n",
        "#df.loc[0].at['MAX_AGE']\n",
        "#df.loc[0].at['MIN_AGE']\n"
      ],
      "metadata": {
        "collapsed": true,
        "id": "hAAhU6S6W5Ri"
      },
      "execution_count": null,
      "outputs": []
    },
    {
      "cell_type": "markdown",
      "source": [
        "**Step 4:** compute middle age point for each locality"
      ],
      "metadata": {
        "id": "J5uFAbPJhH69"
      }
    },
    {
      "cell_type": "code",
      "source": [
        "MID_AGE = (df['MAX_AGE'] + df['MIN_AGE'])/2\n",
        "MID_AGE\n",
        "# add MID_AGE column\n",
        "df.insert(8,'MID_AGE',MID_AGE,True)\n",
        "df.head()"
      ],
      "metadata": {
        "collapsed": true,
        "id": "BqChVQOBhUyH"
      },
      "execution_count": null,
      "outputs": []
    },
    {
      "cell_type": "markdown",
      "source": [
        "**Step 5:** assign localities to time bins (1 Myr bins)"
      ],
      "metadata": {
        "id": "xd7mTPGokhOT"
      }
    },
    {
      "cell_type": "code",
      "source": [
        "# find maximum mid age\n",
        "max_mid_age_total = df['MID_AGE'].max()\n",
        "\n",
        "import numpy as np\n",
        "# round up to the nearest million\n",
        "max_mid_age_total = np.ceil(max_mid_age_total)\n",
        "max_mid_age_total\n",
        "\n",
        "# creat a sequence of integers from 1 to maximum middle age\n",
        "bin_edges = np.arange(1, max_mid_age_total+1)\n",
        "bin_edges = np.insert(bin_edges, 0, 0)\n",
        "bin_edges\n",
        "\n",
        "# adding a column with indicating the bin assignment\n",
        "df['bin_number'] = pd.cut(df['MID_AGE'], bins=bin_edges, right=False)\n",
        "df.head()\n",
        "\n",
        "\n"
      ],
      "metadata": {
        "collapsed": true,
        "id": "eRNvyhLpk9FU"
      },
      "execution_count": null,
      "outputs": []
    },
    {
      "cell_type": "markdown",
      "source": [
        "Step 6: plotting the number of localities per bin over time"
      ],
      "metadata": {
        "id": "ehuDp7znynB-"
      }
    },
    {
      "cell_type": "code",
      "source": [
        "# Group by bin_number and count occurrences\n",
        "bin_counts = df.groupby('bin_number').size()\n",
        "bin_counts\n",
        "\n",
        "bin_midpoints = [(bin_edges[i] + bin_edges[i+1]) / 2 for i in range(len(bin_edges)-1)]\n",
        "\n",
        "import matplotlib.pyplot as plt\n",
        "# Plotting\n",
        "plt.figure(figsize=(10, 6))  # Adjust figure size as needed\n",
        "plt.plot(bin_midpoints, bin_counts.values, marker='o', linestyle='-', color='g')\n",
        "plt.xlabel('Time bin mid point, Myr')\n",
        "plt.ylabel('Number of localities')\n",
        "plt.show()"
      ],
      "metadata": {
        "id": "aMOmxNtVyxD5"
      },
      "execution_count": null,
      "outputs": []
    },
    {
      "cell_type": "markdown",
      "source": [
        "**Step 7:** plotting a separate time series for each country"
      ],
      "metadata": {
        "id": "LVK1CUes0vrw"
      }
    },
    {
      "cell_type": "code",
      "source": [
        "# Plotting separate time series for each country\n",
        "plt.figure(figsize=(12, 8))\n",
        "\n",
        "for country in df['COUNTRY'].unique():\n",
        "    country_df = df[df['COUNTRY'] == country]\n",
        "    # Group by bin_number and count occurrences\n",
        "    bin_counts = country_df.groupby(pd.cut(country_df['MID_AGE'], bins=bin_edges)).size()\n",
        "    plt.plot(bin_midpoints, bin_counts.values, marker='o', linestyle='-', label=country)\n",
        "\n",
        "plt.xlabel('Time bin mid point, Myr')\n",
        "plt.ylabel('Number of localities')\n",
        "plt.title('Loality count by country')\n",
        "plt.legend()\n",
        "plt.show()"
      ],
      "metadata": {
        "id": "5xAT7Vs703nT"
      },
      "execution_count": null,
      "outputs": []
    },
    {
      "cell_type": "markdown",
      "source": [
        "**Step 8:** normalize by the area of the country"
      ],
      "metadata": {
        "id": "2-CjPain3ARl"
      }
    },
    {
      "cell_type": "code",
      "source": [
        "# areas of the countries in the km2\n",
        "area_data = {\n",
        "    'Kenya': 580,\n",
        "    'Tanzania': 974,\n",
        "    'Ethiopia': 1112\n",
        "}\n",
        "\n",
        "plt.figure(figsize=(12, 8))\n",
        "\n",
        "for country in df['COUNTRY'].unique():\n",
        "    country_df = df[df['COUNTRY'] == country]\n",
        "    bin_counts = country_df.groupby(pd.cut(country_df['MID_AGE'], bins=bin_edges)).size()\n",
        "    # Normalize by country area\n",
        "    country_area = area_data[country]\n",
        "    normalized_counts = bin_counts / country_area\n",
        "    plt.plot(bin_midpoints, normalized_counts.values, marker='o', linestyle='-', label=country)\n",
        "\n",
        "plt.xlabel('Time bin mid point, Myr')\n",
        "plt.ylabel('Localities per km2)')\n",
        "plt.title('Normalized density of localities by country')\n",
        "plt.legend()\n",
        "plt.show()"
      ],
      "metadata": {
        "id": "m4Jpsf6M3Fhg"
      },
      "execution_count": null,
      "outputs": []
    }
  ]
}