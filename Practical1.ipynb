{
  "nbformat": 4,
  "nbformat_minor": 0,
  "metadata": {
    "colab": {
      "provenance": [],
      "authorship_tag": "ABX9TyN9jyV5KM0WoXvPwWfhomDE",
      "include_colab_link": true
    },
    "kernelspec": {
      "name": "python3",
      "display_name": "Python 3"
    },
    "language_info": {
      "name": "python"
    }
  },
  "cells": [
    {
      "cell_type": "markdown",
      "metadata": {
        "id": "view-in-github",
        "colab_type": "text"
      },
      "source": [
        "<a href=\"https://colab.research.google.com/github/zliobaite/TBIteaching2024/blob/main/Practical1.ipynb\" target=\"_parent\"><img src=\"https://colab.research.google.com/assets/colab-badge.svg\" alt=\"Open In Colab\"/></a>"
      ]
    },
    {
      "cell_type": "markdown",
      "source": [
        "**Practical 1: NOW database**\n",
        "\n",
        "In this exercise you will explore the NOW database of fossil mammals.\n",
        "\n",
        "Task: compare the number of mammalian fossil localities in Kenya, Tanzania and Ethiopia over the time period from 34 million years ago to today. Does the number of localities increase/decrease/stay similar over time? How does the number of localities compare accross countries through time?\n"
      ],
      "metadata": {
        "id": "RJBvQw23QJ26"
      }
    },
    {
      "cell_type": "markdown",
      "source": [
        "**Step 1:** explore the database\n",
        "\n",
        "Go to the NOW database https://nowdatabase.luomus.fi/ . Go to \"Locality\" tab. Enter \"Kenya\" in the \"Country or Continent\" search box. How many localities are found? Try to open one or a few, see what is in there."
      ],
      "metadata": {
        "id": "pFZRyzsXRiNF"
      }
    },
    {
      "cell_type": "markdown",
      "source": [
        "**Step 2:** download a csv with a list of localities from Kenya, Tanzania and Ethiopia\n",
        "\n",
        "Enter \"Kenya,Tanzania,Ethiopia\" in the \"Country or Continent\" search box. How many localities are found?\n",
        "\n",
        "Click \"Export\". In the pop up box tick \"Export to file\" and click \"Selected localities/species\". Rename the file with a shorter name for convenience, for example \"now_KeTaEt.csv\". Open the csv, explore it."
      ],
      "metadata": {
        "id": "gU93YVchTdpJ"
      }
    },
    {
      "cell_type": "markdown",
      "source": [
        "**Step 3:** read the data from the csv, compute middle age point for each locality"
      ],
      "metadata": {
        "id": "0lULNvFEWT4u"
      }
    },
    {
      "cell_type": "code",
      "source": [
        "from google.colab import files\n",
        "uploaded = files.upload()"
      ],
      "metadata": {
        "id": "T6WSIfnPWivl"
      },
      "execution_count": null,
      "outputs": []
    },
    {
      "cell_type": "code",
      "source": [
        "import pandas as pd\n",
        "import io\n",
        "\n",
        "df = pd.read_csv(io.StringIO(uploaded['now_KeTaEt.csv'].decode('utf-8')),delimiter='\\t')\n",
        "df"
      ],
      "metadata": {
        "id": "hAAhU6S6W5Ri"
      },
      "execution_count": null,
      "outputs": []
    }
  ]
}