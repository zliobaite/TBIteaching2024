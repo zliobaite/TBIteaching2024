{
  "nbformat": 4,
  "nbformat_minor": 0,
  "metadata": {
    "colab": {
      "provenance": [],
      "authorship_tag": "ABX9TyOmOuvG5X6Sb8aIdiJokcer",
      "include_colab_link": true
    },
    "kernelspec": {
      "name": "python3",
      "display_name": "Python 3"
    },
    "language_info": {
      "name": "python"
    }
  },
  "cells": [
    {
      "cell_type": "markdown",
      "metadata": {
        "id": "view-in-github",
        "colab_type": "text"
      },
      "source": [
        "<a href=\"https://colab.research.google.com/github/zliobaite/TBIteaching2024/blob/main/Practical2.ipynb\" target=\"_parent\"><img src=\"https://colab.research.google.com/assets/colab-badge.svg\" alt=\"Open In Colab\"/></a>"
      ]
    },
    {
      "cell_type": "markdown",
      "source": [
        "**Practical 2: predictive models to analyze collecting strategies**\n",
        "\n",
        "In this exercise you will use a dataset recording collecting decisions in fieldwork. You will make predictive models to predict the probability of collection from the taxonomic information, size and preservation of a fossil. Two types of models will be built -- a logistic regression (global model) and a decision tree (local model).\n",
        "\n",
        "Compare the training, hold out and cross validation accuracies."
      ],
      "metadata": {
        "id": "QPWh6ZfNL69J"
      }
    },
    {
      "cell_type": "markdown",
      "source": [
        "**Step 1:** load the dataset from a csv"
      ],
      "metadata": {
        "id": "Qdf82FT7Mhz-"
      }
    },
    {
      "cell_type": "code",
      "source": [
        "# deleting possible previous uploads\n",
        "import os\n",
        "os.remove(\"TMP_census_2022_release.csv\")\n",
        "\n",
        "from google.colab import files\n",
        "uploaded = files.upload()"
      ],
      "metadata": {
        "id": "NDBV6Ot-L4Ac"
      },
      "execution_count": null,
      "outputs": []
    },
    {
      "cell_type": "code",
      "source": [
        "import pandas as pd\n",
        "import io\n",
        "\n",
        "df = pd.read_csv(io.StringIO(uploaded['TMP_census_2022_release.csv'].decode('utf-8')),delimiter=',')\n",
        "df.head()"
      ],
      "metadata": {
        "id": "VLkyyVQhOPuk"
      },
      "execution_count": null,
      "outputs": []
    },
    {
      "cell_type": "markdown",
      "source": [
        "**Step 2:** make a logistic regression model"
      ],
      "metadata": {
        "id": "qVrXyvMZPB73"
      }
    },
    {
      "cell_type": "code",
      "source": [
        "import numpy as np\n",
        "from sklearn.model_selection import train_test_split\n",
        "from sklearn.linear_model import LogisticRegression\n",
        "from sklearn.metrics import accuracy_score, classification_report\n",
        "from sklearn.preprocessing import StandardScaler\n",
        "from sklearn.impute import SimpleImputer\n",
        "\n",
        "# Replace missing values \"?\" with NaN\n",
        "df.replace('?', pd.NA, inplace=True)\n",
        "\n",
        "# Selecting input columns and the target variable\n",
        "X = df[['Order', 'Bigpart', 'Larger', 'Preservation', 'Completeness']]\n",
        "y = df['Collected']\n",
        "\n",
        "# Convert categorical variables using pd.get_dummies\n",
        "X_encoded = pd.get_dummies(X, columns=['Order', 'Bigpart'], drop_first=False)\n",
        "\n",
        "# Convert \"Larger\" to numeric (1 for 'yes', 0 for 'no' and missing values as 0.5)\n",
        "mapping = {'yes': 1, 'no': 0}\n",
        "X_encoded['Larger'] = X['Larger'].map(mapping).fillna(0.5)\n",
        "\n",
        "\n",
        "# Impute missing values in numerical variables\n",
        "X_numerical = X[['Preservation', 'Completeness']].replace({pd.NA: np.nan})\n",
        "imputer = SimpleImputer(strategy='mean')\n",
        "X_encoded[['Preservation', 'Completeness']] = imputer.fit_transform(X_numerical)\n",
        "\n",
        "# Standardize numerical variables\n",
        "scaler = StandardScaler()\n",
        "X_encoded[['Preservation', 'Completeness']] = scaler.fit_transform(X_encoded[['Preservation', 'Completeness']])\n"
      ],
      "metadata": {
        "id": "wTVK6D-TPFoh"
      },
      "execution_count": 3,
      "outputs": []
    },
    {
      "cell_type": "markdown",
      "source": [],
      "metadata": {
        "id": "vKvarHGucJhs"
      }
    },
    {
      "cell_type": "code",
      "source": [
        "#fitting the model on the full dataset\n",
        "model = LogisticRegression()\n",
        "model.fit(X_encoded, y)\n",
        "\n",
        "#model\n",
        "y_pred_full = model.predict(X_encoded)\n",
        "\n",
        "# accuracy scores\n",
        "accuracy = accuracy_score(y, y_pred_full)\n",
        "print(f'Accuracy: {accuracy:.2f}')\n",
        "\n",
        "print(classification_report(y, y_pred_full))"
      ],
      "metadata": {
        "id": "VBQerhlZTRQa"
      },
      "execution_count": null,
      "outputs": []
    },
    {
      "cell_type": "code",
      "source": [
        "# visualize regression coefficients as a histogram\n",
        "\n",
        "import matplotlib.pyplot as plt\n",
        "\n",
        "# Print the coefficients including intercept\n",
        "intercept = model.intercept_[0]\n",
        "coefficients = model.coef_[0]\n",
        "\n",
        "print(f\"Intercept: {intercept:.2f}\")\n",
        "for feature, coef in zip(X_encoded.columns, coefficients):\n",
        "    print(f\"{feature}: {coef:.2f}\")\n",
        "\n",
        "# Plotting coefficients as a histogram\n",
        "plt.figure(figsize=(8, 6))\n",
        "plt.bar(range(len(coefficients)), coefficients)\n",
        "plt.xticks(range(len(coefficients)), X_encoded.columns, rotation=90)\n",
        "plt.axhline(y=0, color='black', linestyle='--', linewidth=0.5)  # Add a horizontal line at y=0\n",
        "plt.title('Logistic Regression Coefficients')\n",
        "plt.xlabel('Features')\n",
        "plt.ylabel('Coefficient Value')\n",
        "plt.tight_layout()\n",
        "plt.show()"
      ],
      "metadata": {
        "collapsed": true,
        "id": "qXpbxxmsTp9f"
      },
      "execution_count": null,
      "outputs": []
    },
    {
      "cell_type": "code",
      "source": [
        "# testing on a hold out testing set\n",
        "\n",
        "# train test split\n",
        "X_train, X_test, y_train, y_test = train_test_split(X_encoded, y, test_size=0.2, random_state=42)\n",
        "\n",
        "\n",
        "model.fit(X_train, y_train)\n",
        "# model predictions on the test set\n",
        "y_pred = model.predict(X_test)\n",
        "\n",
        "# Accuracy\n",
        "accuracy = accuracy_score(y_test, y_pred)\n",
        "print(f'Accuracy: {accuracy:.2f}')\n",
        "\n",
        "# Classification report\n",
        "print(classification_report(y_test, y_pred))\n",
        "\n"
      ],
      "metadata": {
        "id": "ITkDR1ztTdGE"
      },
      "execution_count": null,
      "outputs": []
    },
    {
      "cell_type": "code",
      "source": [
        "# test via cross validation without redoing preprocessing\n",
        "\n",
        "from sklearn.model_selection import cross_val_score, StratifiedKFold\n",
        "\n",
        "# Create and fit the model\n",
        "model = LogisticRegression()\n",
        "model.fit(X_encoded, y)\n",
        "\n",
        "# Define cross-validation strategy\n",
        "cv = StratifiedKFold(n_splits=10, shuffle=True, random_state=42)\n",
        "\n",
        "# Perform cross-validation on training data\n",
        "scores = cross_val_score(model, X_train, y_train, cv=cv, scoring='accuracy')\n",
        "\n",
        "# Round the scores to two decimal places\n",
        "rounded_scores = np.round(scores, 2)\n",
        "mean_accuracy = np.round(scores.mean(), 2)\n",
        "\n",
        "# Print rounded accuracy scores for each fold\n",
        "print(\"Cross-validation accuracy per fold:\", rounded_scores)\n",
        "print(\"Mean accuracy:\", mean_accuracy)\n"
      ],
      "metadata": {
        "id": "oqImxSN9ZaI-"
      },
      "execution_count": null,
      "outputs": []
    },
    {
      "cell_type": "markdown",
      "source": [
        "**Step 3:** decision tree"
      ],
      "metadata": {
        "id": "jRSgJ0fAcU_o"
      }
    },
    {
      "cell_type": "code",
      "source": [
        "# Create decision tree classifier\n",
        "\n",
        "from sklearn.tree import DecisionTreeClassifier\n",
        "from sklearn.tree import plot_tree\n",
        "\n",
        "dt_classifier = DecisionTreeClassifier(max_depth=5, random_state=42)\n",
        "\n",
        "# Fit the classifier on the training data\n",
        "dt_classifier.fit(X_encoded, y)\n",
        "\n",
        "# Predict on the test set\n",
        "y_pred = dt_classifier.predict(X_encoded)\n",
        "\n",
        "# Evaluate accuracy on the test set\n",
        "accuracy = accuracy_score(y, y_pred)\n",
        "print(\"Decision tree training accuracy:\", accuracy)\n"
      ],
      "metadata": {
        "id": "V_Vv_RUdco3P"
      },
      "execution_count": null,
      "outputs": []
    },
    {
      "cell_type": "code",
      "source": [
        "# visualize\n",
        "\n",
        "# Visualize the decision tree\n",
        "#plt.figure(figsize=(12, 8))\n",
        "#plot_tree(dt_classifier, feature_names=X_encoded.columns, class_names=['no', 'yes'], filled=True, fontsize=10)\n",
        "#plt.title(\"Decision Tree Visualization\")\n",
        "#plt.show()\n",
        "\n",
        "def plot_decision_tree(clf, feature_names, class_names):\n",
        "    plt.figure(figsize=(16, 10))\n",
        "    plot_tree(clf, feature_names=feature_names, class_names=class_names, filled=True, fontsize=10, impurity=False, rounded=True)\n",
        "    plt.show()\n",
        "\n",
        "# Visualize the simplified decision tree\n",
        "plot_decision_tree(dt_classifier, X_encoded.columns, dt_classifier.classes_)\n"
      ],
      "metadata": {
        "id": "OrJXetB5e7j2"
      },
      "execution_count": null,
      "outputs": []
    },
    {
      "cell_type": "code",
      "source": [
        "# testing on a hold out testing set\n",
        "\n",
        "\n",
        "dt_classifier = DecisionTreeClassifier(max_depth=5, random_state=42)\n",
        "dt_classifier.fit(X_train, y_train)\n",
        "\n",
        "y_pred = dt_classifier.predict(X_test)\n",
        "#print(y_pred)\n",
        "\n",
        "accuracy = accuracy_score(y_test, y_pred)\n",
        "print(\"Decision tree hold out test accuracy:\", accuracy)\n",
        "\n"
      ],
      "metadata": {
        "id": "FtLzj3g0hG9g"
      },
      "execution_count": null,
      "outputs": []
    },
    {
      "cell_type": "code",
      "source": [
        "# Define cross-validation strategy\n",
        "cv = StratifiedKFold(n_splits=10, shuffle=True, random_state=42)\n",
        "\n",
        "# Perform cross-validation on training data\n",
        "cv_scores = cross_val_score(dt_classifier, X_encoded, y, cv=cv, scoring='accuracy')\n",
        "\n",
        "# Round the scores to two decimal places\n",
        "rounded_scores = np.round(cv_scores, 2)\n",
        "mean_accuracy = np.round(cv_scores.mean(), 2)\n",
        "\n",
        "# Print rounded accuracy scores for each fold\n",
        "print(\"Cross-validation accuracy per fold:\", rounded_scores)\n",
        "print(\"Mean accuracy:\", mean_accuracy)\n"
      ],
      "metadata": {
        "id": "b2lTxy4Bi_9Z"
      },
      "execution_count": null,
      "outputs": []
    }
  ]
}